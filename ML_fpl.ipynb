{
 "cells": [
  {
   "cell_type": "code",
   "execution_count": 15,
   "metadata": {},
   "outputs": [],
   "source": [
    "import pandas as pd\n",
    "df = pd.read_csv(\"merged_gw.csv\")\n",
    "dfFWD = df.drop(df[ df['position'] != 'FWD' ].index )\n",
    "dfMID = df.drop(df[ df['position'] != 'MID' ].index )\n",
    "dfDEF = df.drop(df[ df['position'] != 'DEF' ].index )"
   ]
  },
  {
   "cell_type": "code",
   "execution_count": 16,
   "metadata": {
    "scrolled": true
   },
   "outputs": [],
   "source": [
    "cleanData = dfDEF.drop(['assists','bonus','clean_sheets','goals_conceded','goals_scored','kickoff_time','team_h_score',\n",
    "                       'transfers_in','transfers_out','value','yellow_cards','minutes','red_cards','round','saves','selected',\n",
    "                       'team_a_score','own_goals','penalties_missed','penalties_saved', 'transfers_balance','team','position'\n",
    "                       ,'fixture','element','GW']  ,axis=1)\n",
    "cleanData[\"was_home\"] = df[\"was_home\"].astype(int)\n",
    "cleanData.to_csv(\"gwsDEFcleaned.csv\")\n"
   ]
  },
  {
   "cell_type": "code",
   "execution_count": 17,
   "metadata": {},
   "outputs": [
    {
     "name": "stdout",
     "output_type": "stream",
     "text": [
      "[[ 0.1258851 ]\n",
      " [-0.04412571]\n",
      " [-0.15704155]\n",
      " [-0.15554311]\n",
      " [ 1.8390637 ]\n",
      " [-0.00194037]\n",
      " [-0.04010042]]\n",
      "8.918345274835547\n"
     ]
    }
   ],
   "source": [
    "from sklearn.model_selection import train_test_split\n",
    "import matplotlib.pyplot as plt\n",
    "import numpy as np \n",
    "\n",
    "x_0 = np.ones(cleanData.shape[0])\n",
    "x_1 = cleanData['influence'].values\n",
    "x_2 = cleanData['creativity'].values\n",
    "x_3 = cleanData['threat'].values\n",
    "x_4 = cleanData['ict_index'].values\n",
    "x_5 = cleanData['opponent_team'].values\n",
    "x_6 = cleanData['was_home'].values\n",
    "# x_7 = cleanData['bps'].values\n",
    "# x_8 = cleanData['xP'].values\n",
    "\n",
    "X= np.matrix([x_0 , x_1 , x_2 , x_3 , x_4 , x_5 , x_6 ]).T\n",
    "\n",
    "y = np.matrix(cleanData['total_points']).T\n",
    "\n",
    "\n",
    "xtrain, xtest , ytrain , ytest = train_test_split(X , y , train_size=0.8)\n",
    "theta = np.linalg.inv(xtrain.T.dot(xtrain)).dot(xtrain.T).dot(ytrain)\n",
    "print(theta)\n",
    "theta0 = theta.item(0)\n",
    "theta1 = theta.item(1)\n",
    "theta2 = theta.item(2)\n",
    "theta3 = theta.item(3)\n",
    "theta4 = theta.item(4)\n",
    "theta5 = theta.item(5)\n",
    "theta6 = theta.item(6)\n",
    "\n",
    "# 10, 21, 24, 18, 8, 1\n",
    "predd = theta0 + 12*theta1 + 31*theta2 + 3*theta3 + 8*theta4 + 8*theta5 + 1*theta6 \n",
    "print(predd)"
   ]
  },
  {
   "cell_type": "code",
   "execution_count": 18,
   "metadata": {},
   "outputs": [
    {
     "name": "stdout",
     "output_type": "stream",
     "text": [
      "Precision 0.5623435325009469\n",
      "Erreur 0.43765646749905307\n",
      "[[-21.47484653]]\n"
     ]
    }
   ],
   "source": [
    "from sklearn import linear_model\n",
    "regr = linear_model.LinearRegression().fit(xtest, ytest)\n",
    "\n",
    "precision = regr.score(xtest, ytest) \n",
    "theta=regr.coef_\n",
    "biais=regr.intercept_\n",
    "prediction = regr.predict(xtest)\n",
    "ytestM = np.squeeze(np.asarray(ytest))\n",
    "\n",
    "\n",
    "dfe = pd.DataFrame()\n",
    "\n",
    "dfe['Target'] =  ytestM\n",
    "dfe['Prediction']  = prediction\n",
    "\n",
    "\n",
    "\n",
    "print(\"Precision\" , precision)\n",
    "print(\"Erreur\", 1-precision)\n",
    "\n",
    "print(regr.predict([[1, 12, 31, 3, 8, 8, 1]]))"
   ]
  },
  {
   "cell_type": "code",
   "execution_count": null,
   "metadata": {},
   "outputs": [],
   "source": []
  },
  {
   "cell_type": "code",
   "execution_count": null,
   "metadata": {},
   "outputs": [],
   "source": []
  },
  {
   "cell_type": "code",
   "execution_count": null,
   "metadata": {},
   "outputs": [],
   "source": []
  },
  {
   "cell_type": "code",
   "execution_count": null,
   "metadata": {},
   "outputs": [],
   "source": []
  }
 ],
 "metadata": {
  "kernelspec": {
   "display_name": "Python 3",
   "language": "python",
   "name": "python3"
  },
  "language_info": {
   "codemirror_mode": {
    "name": "ipython",
    "version": 3
   },
   "file_extension": ".py",
   "mimetype": "text/x-python",
   "name": "python",
   "nbconvert_exporter": "python",
   "pygments_lexer": "ipython3",
   "version": "3.7.4"
  }
 },
 "nbformat": 4,
 "nbformat_minor": 2
}
